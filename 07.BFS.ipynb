{
 "cells": [
  {
   "cell_type": "markdown",
   "metadata": {},
   "source": [
    "# Breadth First Search\n",
    "\n",
    "#### 貼り付け元  <http://judge.u-aizu.ac.jp/onlinejudge/description.jsp?id=ALDS1_11_C&lang=ja#> \n"
   ]
  },
  {
   "cell_type": "code",
   "execution_count": 10,
   "metadata": {
    "scrolled": true
   },
   "outputs": [
    {
     "name": "stdout",
     "output_type": "stream",
     "text": [
      "4\n",
      "1 2 2 4\n",
      "2 1 4\n",
      "3 0\n",
      "4 1 3\n",
      "1 0\n",
      "2 1\n",
      "3 2\n",
      "4 1\n"
     ]
    }
   ],
   "source": [
    "n=int(input())\n",
    "G=[None for _ in range(n+1)]\n",
    "\n",
    "for i in range(1,n+1):\n",
    "    u,k,*v=map(int,input().split())\n",
    "    G[i]=[vs for vs in v] # vをそのまま代入するとidが代入されるのでちゃんとバラして入れる\n",
    "\n",
    "from collections import deque\n",
    "\n",
    "dist = [-1]*(n+1) # 距離\n",
    "\n",
    "# ノード1から探索を始める\n",
    "que = deque([1]) # キュー\n",
    "dist[1]=0\n",
    "\n",
    "while que: # キューが空になるまで継続\n",
    "    v = que.popleft() # 一番おじいちゃんのノードを取り出す\n",
    "    d = dist[v]\n",
    "    for w in G[v]: # 隣接ノードを探検\n",
    "        # 探索済みなら次の点にうつる\n",
    "        # 幅優先探索なので最初に到達した時点ですでに最短距離になってる...見る必要がないため\n",
    "        if dist[w] > -1: \n",
    "            continue\n",
    "        dist[w] = d+1\n",
    "        que.append(w) #調べた点の隣接ノードを探索候補に\n",
    "        \n",
    "for i in range(1,n+1):\n",
    "    print(i,dist[i])"
   ]
  },
  {
   "cell_type": "markdown",
   "metadata": {},
   "source": [
    "# C - 幅優先探索\n",
    "#### 貼り付け元  <https://atcoder.jp/contests/abc007/tasks/abc007_3> "
   ]
  },
  {
   "cell_type": "code",
   "execution_count": null,
   "metadata": {},
   "outputs": [],
   "source": [
    "import numpy as np\n",
    "from collections import deque\n",
    "\n",
    "r,c = map(int,input().split())\n",
    "# 盤面は1始まりなので座標をずらしておく\n",
    "s=[int(i)-1 for i in input().split()]\n",
    "g=[int(i)-1 for i in input().split()]\n",
    "\n",
    "maze = np.array([list(input()) for _ in range(r)])\n",
    "# 地面のdistを-1に、壁のdistを-2にする\n",
    "dist = np.where(maze==\".\",-1,-2)\n",
    "\n",
    "dist[s[0],s[1]]=0\n",
    "que=deque([s]) # スタート地点をキューに格納\n",
    "\n",
    "# 空になるまで探索継続\n",
    "while que:\n",
    "    v = que.popleft()\n",
    "    d = dist[v[0],v[1]]\n",
    "    # 上下左右\n",
    "    udrl = [[v[0],v[1]+1]\n",
    "           ,[v[0],v[1]-1]\n",
    "           ,[v[0]+1,v[1]]\n",
    "           ,[v[0]-1,v[1]]]\n",
    "    for w in udrl:\n",
    "    # 迷路外の座標はパス\n",
    "        if not(0<=w[0]<r and 0<=w[1]<c):\n",
    "            print(w,\"pass\")\n",
    "            continue\n",
    "        # 未探索なら次の検索候補に加えて最短距離も記録する\n",
    "        if dist[w[0],w[1]]==-1:\n",
    "            que.append(w)\n",
    "            dist[w[0],w[1]] = d+1\n",
    "            \n",
    "# ゴール地点の距離を出力\n",
    "print(dist[g[0],g[1]])"
   ]
  },
  {
   "cell_type": "markdown",
   "metadata": {},
   "source": [
    "# E - チーズ (Cheese)\n",
    "\n",
    "#### 貼り付け元  <https://atcoder.jp/contests/joi2011yo/tasks/joi2011yo_e> "
   ]
  },
  {
   "cell_type": "raw",
   "metadata": {},
   "source": [
    "流れ\n",
    "\n",
    "1から2 2から3 ...\n",
    "を幅優先探索で最短経路を検索\n",
    "各ポイントに到達したらansに所要時間を足して探索を打ち切り"
   ]
  },
  {
   "cell_type": "code",
   "execution_count": 74,
   "metadata": {},
   "outputs": [
    {
     "name": "stdout",
     "output_type": "stream",
     "text": [
      "657150\n"
     ]
    }
   ],
   "source": [
    "import numpy as np\n",
    "from collections import deque\n",
    "\n",
    "h,w,n=map(int,input().split())\n",
    "# 地図の読み込み\n",
    "maze = np.array([list(input()) for _ in range(h)])\n",
    "\n",
    "# 1-nまでの座標を取得\n",
    "\n",
    "p_0=np.where(maze==\"S\")\n",
    "p=[[p_0[0][0],p_0[1][0]]]\n",
    "\n",
    "for i in range(1,n+1):\n",
    "    p_i=np.where(maze==str(i))\n",
    "    p.append([p_i[0][0],p_i[1][0]])\n",
    "    \n",
    "    \n",
    "# S,1,2,...,n の順番に幅優先探索で最短距離を調べる\n",
    "ans=0\n",
    "for i in range(n):\n",
    "    s=p[i]\n",
    "    g=p[i+1]\n",
    "    \n",
    "    # 障害物のdistを-2、通行可能箇所のdistを-1にする\n",
    "    dist = np.where(maze==\"X\",-2,-1)\n",
    "\n",
    "    dist[s[0],s[1]]=0\n",
    "    que=deque([s]) # スタート地点をキューに格納\n",
    "\n",
    "    # 空になるまで探索継続\n",
    "    while que:\n",
    "        v = que.popleft()\n",
    "        d = dist[v[0],v[1]]\n",
    "        # 上下左右\n",
    "        udrl = [[v[0],v[1]+1]\n",
    "               ,[v[0],v[1]-1]\n",
    "               ,[v[0]+1,v[1]]\n",
    "               ,[v[0]-1,v[1]]]\n",
    "        for vv in udrl:\n",
    "        # 迷路外の座標はパス\n",
    "            if not(0<=vv[0]<h and 0<=vv[1]<w):\n",
    "                continue\n",
    "            # 未探索なら次の検索候補に加えて最短距離も記録する\n",
    "            if dist[vv[0],vv[1]]==-1:\n",
    "                dist[vv[0],vv[1]] = d+1\n",
    "                que.append(vv)\n",
    "\n",
    "        if dist[g[0],g[1]]!=-1:\n",
    "            ans+=dist[g[0],g[1]]\n",
    "            break\n",
    "\n",
    "print(ans)"
   ]
  },
  {
   "cell_type": "code",
   "execution_count": null,
   "metadata": {},
   "outputs": [],
   "source": []
  }
 ],
 "metadata": {
  "kernelspec": {
   "display_name": "Python 3",
   "language": "python",
   "name": "python3"
  },
  "language_info": {
   "codemirror_mode": {
    "name": "ipython",
    "version": 3
   },
   "file_extension": ".py",
   "mimetype": "text/x-python",
   "name": "python",
   "nbconvert_exporter": "python",
   "pygments_lexer": "ipython3",
   "version": "3.8.3"
  }
 },
 "nbformat": 4,
 "nbformat_minor": 4
}
