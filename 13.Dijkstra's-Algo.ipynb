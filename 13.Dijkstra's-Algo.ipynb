{
 "cells": [
  {
   "cell_type": "markdown",
   "metadata": {},
   "source": [
    "# ダイクストラ法"
   ]
  },
  {
   "cell_type": "code",
   "execution_count": 2,
   "metadata": {},
   "outputs": [],
   "source": [
    "# 隣接リストに辺の重みを格納\n",
    "# 各ノードへの最短距離をinfで初期化\n",
    "# 始点を最短距離0で確定\n",
    "# 始点から一手で行けるノードに仮の最短距離を入れる\n",
    "\n",
    "# 未確定のノードの内一番近い点を確定、そこから一手でいけるノードに仮の最短距離を入れる\n",
    "# ↑を全部の点が確定するまで繰り返し"
   ]
  },
  {
   "cell_type": "code",
   "execution_count": 15,
   "metadata": {},
   "outputs": [
    {
     "name": "stdout",
     "output_type": "stream",
     "text": [
      "4 5 0\n",
      "0 1 1\n",
      "0 2 4\n",
      "1 2 2\n",
      "2 3 1\n",
      "1 3 5\n"
     ]
    }
   ],
   "source": [
    "# ノード数、エッジ数、始点\n",
    "v,e,r=map(int,input().split())\n",
    "\n",
    "# 隣接リスト a[i]には[iから行ける辺,コスト]のリストが格納される(三次元配列)\n",
    "a = [[] for _ in range(v)]\n",
    "for _ in range(e):\n",
    "    s,t,d=map(int,input().split())\n",
    "    a[s].append([t,d])\n"
   ]
  },
  {
   "cell_type": "code",
   "execution_count": 21,
   "metadata": {},
   "outputs": [],
   "source": [
    "from heapq import heappush, heappop\n",
    "\n",
    "# ダイクストラ法\n",
    "def dijkstra(s,n): #始点, ノード数\n",
    "    dist=[float(\"inf\")]*n\n",
    "    q=[[0,s]] # 始点をキューに追加\n",
    "    dist[s]=0\n",
    "    check=[False]*n # 最小コストが確定した点はTrueになる\n",
    "    while q:\n",
    "        # ノードをpop\n",
    "        # ヒープの頭をpopするので未確定のノードのなかで最小コストの点が出てくる\n",
    "        v = heappop(q)[1] \n",
    "        check[v]=True\n",
    "        for to,cost in a[v]:\n",
    "            # 行先が未確定で最短コストを更新できそうなら行先を探索キューに追加\n",
    "            if check[to]==False and dist[to]>dist[v]+cost:\n",
    "                dist[to]=dist[v]+cost\n",
    "                heappush(q,[dist[to],to])\n",
    "    return dist\n",
    "\n",
    "d=dijkstra(r,v)\n",
    "\n",
    "for ans in d:\n",
    "    print(\"INF\" if ans==float(\"inf\") else ans)"
   ]
  },
  {
   "cell_type": "markdown",
   "metadata": {},
   "source": [
    "# F - 船旅\n",
    "\n",
    "https://atcoder.jp/contests/joi2008yo/tasks/joi2008yo_f"
   ]
  },
  {
   "cell_type": "markdown",
   "metadata": {},
   "source": [
    "#### 注文票が来るたびにダイクストラ使うだけ"
   ]
  },
  {
   "cell_type": "code",
   "execution_count": null,
   "metadata": {},
   "outputs": [],
   "source": [
    "from heapq import heappush, heappop\n",
    "\n",
    "# ダイクストラ法\n",
    "def dijkstra(s,n): #始点, ノード数\n",
    "    dist=[float(\"inf\")]*n\n",
    "    q=[[0,s]] # 始点をキューに追加\n",
    "    dist[s]=0\n",
    "    check=[False]*n # 最小コストが確定した点はTrueになる\n",
    "    while q:\n",
    "        # ノードをpop\n",
    "        # ヒープの頭をpopするので未確定のノードのなかで最小コストの点が出てくる\n",
    "        v = heappop(q)[1] \n",
    "        check[v]=True\n",
    "        for to,cost in a[v]:\n",
    "            # 行先が未確定で最短コストを更新できそうなら行先を探索キューに追加\n",
    "            if check[to]==False and dist[to]>dist[v]+cost:\n",
    "                dist[to]=dist[v]+cost\n",
    "                heappush(q,[dist[to],to])\n",
    "    return dist\n",
    "\n",
    "\n",
    "n,k = map(int,input().split())\n",
    "# 隣接リスト\n",
    "a = [[] for _ in range(n+1)] # 島の番号が1始まりなので一つ増やした\n",
    "\n",
    "for _ in range(k):\n",
    "    o = [int(i) for i in input().split()]\n",
    "    if o[0]==1:\n",
    "        a[o[1]].append([o[2],o[3]])\n",
    "        a[o[2]].append([o[1],o[3]])\n",
    "    elif o[0]==0:\n",
    "        dist = dijkstra(o[1],n+1)\n",
    "        print(-1 if dist[o[2]]==float(\"inf\") else dist[o[2]])"
   ]
  },
  {
   "cell_type": "markdown",
   "metadata": {},
   "source": [
    "# E - ゾンビ島 (Zombie Island) \n",
    "\n",
    "貼り付け元  <https://atcoder.jp/contests/joi2016yo/tasks/joi2016yo_e> "
   ]
  },
  {
   "cell_type": "markdown",
   "metadata": {},
   "source": [
    "#### 1.幅優先探索で危険な町を判定\n",
    "#### 2.町が危険かどうかに応じてコストを設定して、ダイクストラ用の重み付きパスを作る\n",
    "#### 3.ダイクストラで全ての町へのコストを調べる　最後から一歩前の町へのコストの最小値が答え"
   ]
  },
  {
   "cell_type": "code",
   "execution_count": 74,
   "metadata": {
    "collapsed": true
   },
   "outputs": [
    {
     "name": "stdout",
     "output_type": "stream",
     "text": [
      "21 26 2 2\n",
      "1000 2000\n",
      "5 \n",
      "16\n",
      "1 2\n",
      "1 3\n",
      "1 10\n",
      "2 5\n",
      "3 4\n",
      "4 6\n",
      "5 8\n",
      "6 7\n",
      "7 9\n",
      "8 10\n",
      "9 10\n",
      "9 11\n",
      "11 13\n",
      "12 13\n",
      "12 15\n",
      "13 14\n",
      "13 16\n",
      "14 17\n",
      "15 16\n",
      "15 18\n",
      "16 17\n",
      "16 19\n",
      "17 20\n",
      "18 19\n",
      "19 20\n",
      "19 21\n"
     ]
    }
   ],
   "source": [
    "import numpy as np\n",
    "from copy import copy\n",
    "from heapq import heappush, heappop\n",
    "\n",
    "N,M,K,S = map(int,input().split())\n",
    "P,Q = map(int,input().split())\n",
    "\n",
    "zombie_town=[int(input()) for _ in range(K)]\n",
    "\n",
    "path_for_bfs = [[] for _ in range(N+1)]\n",
    "\n",
    "for _ in range(M):\n",
    "    path = [int(i) for i in input().split()]\n",
    "    path_for_bfs[path[0]].append(path[1])\n",
    "    path_for_bfs[path[1]].append(path[0])\n"
   ]
  },
  {
   "cell_type": "code",
   "execution_count": null,
   "metadata": {},
   "outputs": [],
   "source": [
    "def get_danger(p_start):\n",
    "    dist=[0]*(N+1)\n",
    "    dist[p_start]=-1 #あとで引っかからないように0じゃない値にしておく\n",
    "    que=path_for_bfs[p_start]\n",
    "    \n",
    "    for cnt in range(1,S+1):\n",
    "        p_add=[]\n",
    "        for p_from in que:\n",
    "            if dist[p_from]==0:\n",
    "                dist[p_from]=cnt\n",
    "                p_add+=path_for_bfs[p_from]\n",
    "        que=list(set(p_add))\n",
    "    dist[p_start]=0\n",
    "    # 危険フラグを返す\n",
    "    return np.array(dist)>0\n",
    "  \n",
    "# 危険な町を取得\n",
    "danger_town=np.array([False]*(N+1))\n",
    "for town in zombie_town:\n",
    "    danger_town = danger_town + get_danger(town)\n",
    "\n",
    "\n",
    "# ゾンビがいない町の宿泊コストを格納\n",
    "path_for_dijkstra = [[] for _ in range(N+1)]\n",
    "for p_from in range(1,N+1):\n",
    "    for to in path_for_bfs[p_from]:\n",
    "        # ゾンビがいる町は追加しない\n",
    "        if to in zombie_town:\n",
    "            continue            \n",
    "        # 危険かどうかに応じて宿泊コストを詰め込む\n",
    "        if danger_town[to]==True:\n",
    "            path_for_dijkstra[p_from].append([to,Q])\n",
    "        else:\n",
    "            path_for_dijkstra[p_from].append([to,P])\n",
    "\n",
    "            \n",
    "# ダイクストラ法（distには最小コストが格納されてる）\n",
    "def dijkstra(s,n): #始点, ノード数\n",
    "    lowest=[float(\"inf\")]*n\n",
    "    q=[[0,s]] # 始点をキューに追加\n",
    "    lowest[s]=0\n",
    "    check=[False]*n # 最小コストが確定した点はTrueになる\n",
    "    while q:\n",
    "        # ノードをpop\n",
    "        # ヒープの頭をpopするので未確定のノードのなかで最小コストの点が出てくる\n",
    "        v = heappop(q)[1] \n",
    "        check[v]=True\n",
    "        for to,cost in path_for_dijkstra[v]:\n",
    "            # 行先が未確定で最短コストを更新できそうなら行先を探索キューに追加\n",
    "            if check[to]==False and lowest[to]>lowest[v]+cost:\n",
    "                lowest[to]=lowest[v]+cost\n",
    "                heappush(q,[lowest[to],to])\n",
    "    return lowest\n",
    "\n",
    "\n",
    "lowest = dijkstra(1,N+1)\n",
    "ans=float(\"inf\")\n",
    "# 最後の宿は泊まらなくていいので、一歩手前で一番安いところを探す\n",
    "for i in path_for_dijkstra[N]:\n",
    "    ans=min(ans,lowest[i[0]])\n",
    "print(ans)"
   ]
  },
  {
   "cell_type": "code",
   "execution_count": null,
   "metadata": {},
   "outputs": [],
   "source": []
  }
 ],
 "metadata": {
  "kernelspec": {
   "display_name": "Python 3",
   "language": "python",
   "name": "python3"
  },
  "language_info": {
   "codemirror_mode": {
    "name": "ipython",
    "version": 3
   },
   "file_extension": ".py",
   "mimetype": "text/x-python",
   "name": "python",
   "nbconvert_exporter": "python",
   "pygments_lexer": "ipython3",
   "version": "3.8.3"
  }
 },
 "nbformat": 4,
 "nbformat_minor": 4
}
