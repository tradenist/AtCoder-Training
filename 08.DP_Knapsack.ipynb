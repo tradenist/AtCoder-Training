{
 "cells": [
  {
   "cell_type": "markdown",
   "metadata": {},
   "source": [
    "# Fibonacci Number\n",
    "\n",
    "#### 貼り付け元  <http://judge.u-aizu.ac.jp/onlinejudge/description.jsp?id=ALDS1_10_A&lang=ja> \n"
   ]
  },
  {
   "cell_type": "code",
   "execution_count": null,
   "metadata": {},
   "outputs": [],
   "source": [
    "n=int(input())\n",
    "fib=[1,1]\n",
    "for i in range(2,n+2):\n",
    "    fib.append(fib[i-1]+fib[i-2])\n",
    "print(fib[n])"
   ]
  },
  {
   "cell_type": "markdown",
   "metadata": {},
   "source": [
    "# 0-1 Knapsack Problem\n",
    "\n",
    "#### 貼り付け元  <http://judge.u-aizu.ac.jp/onlinejudge/description.jsp?id=DPL_1_B&lang=ja> "
   ]
  },
  {
   "cell_type": "code",
   "execution_count": null,
   "metadata": {},
   "outputs": [],
   "source": [
    "# ↓重さ[0～W]、⇒品数[0～N]の(W+1)*(N+1)行列dpの各要素において\n",
    "# 鞄に詰められる最大の価値を順に格納\n",
    "# i行目では重さは最大でもiまでしか、j列目では1～j個目の品物しか詰められない縛り\n",
    "# 下の三つのうち一番いいスコアが効率的な詰め方\n",
    "#     dp[使える荷物同じ][許容重量が1少ない]\n",
    "#     dp[使える荷物ひとつ少ない][許容重量が[詰めたい荷物重量分]少ない] + 詰めたい荷物の価値\n",
    "# これをN*W回くりかえして一番右下（＝重量も使用可能荷物も最大）の値が答え"
   ]
  },
  {
   "cell_type": "code",
   "execution_count": null,
   "metadata": {},
   "outputs": [],
   "source": [
    "n,w=map(int,input().split())\n",
    "vw = [[int(i) for i in input().split()] for _ in range(n)]\n",
    "vw.sort(key=lambda x:x[1]) # 軽い順にソート\n",
    "\n",
    "dp=[[0]*(n+1) for _ in range(w+1)] # 最初は最大価値0からスタート\n",
    "\n",
    "for i in range(1,w+1):\n",
    "    for j in range(1,n+1):\n",
    "        # 新たに入れたい荷物が鞄の許容重量を超えている場合\n",
    "        if i-vw[j-1][1]<0:\n",
    "            dp[i][j]=dp[i][j-1]\n",
    "        # そうじゃないとき\n",
    "        else:\n",
    "            dp[i][j]=max(dp[i][j-1],dp[i-vw[j-1][1]][j-1]+vw[j-1][0])\n",
    "\n",
    "print(dp[-1][-1])"
   ]
  },
  {
   "cell_type": "markdown",
   "metadata": {},
   "source": [
    "# Knapsack Problem\n",
    "\n",
    "#### 貼り付け元  <http://judge.u-aizu.ac.jp/onlinejudge/description.jsp?id=DPL_1_C&lang=ja> "
   ]
  },
  {
   "cell_type": "code",
   "execution_count": null,
   "metadata": {},
   "outputs": [],
   "source": [
    "# 前問の比較の部分を全アイテムについて行う仕様にしたらTLE  O(N^2W)\n",
    "# ⇒冷静に考えたらアイテムの数だけ列作る必要なかった\n",
    "# dp[許容重量]の形にして、\n",
    "#    dp[許容重量-入れたいアイテム重量]+入れたいアイテム価値\n",
    "# と現在値のうち大きいほうをとる形にしたらO(NW）になって通せた"
   ]
  },
  {
   "cell_type": "code",
   "execution_count": null,
   "metadata": {},
   "outputs": [],
   "source": [
    "n,w=map(int,input().split())\n",
    "vw = [[int(i) for i in input().split()] for _ in range(n)]\n",
    "vw.sort(key=lambda x:[x[1],-x[0]]) # 軽い順、同列なら価値ある順に整列\n",
    "\n",
    "dp=[0]*(w+1) # 重さ制限がiの時の最大価値を書き込む\n",
    "\n",
    "for i in range(1,w+1):\n",
    "    tmp=dp[i-1]\n",
    "    for item_no in range(n):\n",
    "        # 荷物のサイズが鞄の許容サイズより大きかったらパス\n",
    "        if i-vw[item_no][1]<0:\n",
    "            break\n",
    "        else:\n",
    "            # それぞれの荷物を詰め込んだ方がお得か判定\n",
    "            tmp=max(tmp,dp[i-vw[item_no][1]]+vw[item_no][0])\n",
    "    dp[i]=tmp \n",
    "print(dp[-1])"
   ]
  },
  {
   "cell_type": "markdown",
   "metadata": {},
   "source": [
    "# Coin Changing Problem\n",
    "\n",
    "#### 貼り付け元  <http://judge.u-aizu.ac.jp/onlinejudge/description.jsp?id=DPL_1_A&lang=ja> \n"
   ]
  },
  {
   "cell_type": "code",
   "execution_count": null,
   "metadata": {},
   "outputs": [],
   "source": [
    "# 貪欲法でうまくいく保障なし…DPを使う\n",
    "# i円を払いたいとき、各額面c[j]について\n",
    "#     ((l-c[j])円を払うのに必要な枚数）+1\n",
    "# のうち最小のものが答え"
   ]
  },
  {
   "cell_type": "code",
   "execution_count": null,
   "metadata": {},
   "outputs": [],
   "source": [
    "n,m=map(int,input().split())\n",
    "c=[int(i) for i in input().split()]\n",
    "\n",
    "dp=[float(\"inf\")]*(n+1)\n",
    "dp[0]=0\n",
    "\n",
    "for i in range(1,n+1):\n",
    "    tmp = float(\"inf\")\n",
    "    for j in range(m):\n",
    "        if i-c[j]>=0:\n",
    "            tmp=min(tmp,dp[i-c[j]]+1)\n",
    "    dp[i]=tmp\n",
    "\n",
    "print(dp[-1])"
   ]
  },
  {
   "cell_type": "markdown",
   "metadata": {},
   "source": [
    "# Longest Common Subsequence\n",
    "\n",
    "#### 貼り付け元  <http://judge.u-aizu.ac.jp/onlinejudge/description.jsp?id=ALDS1_10_C&lang=ja> "
   ]
  },
  {
   "cell_type": "code",
   "execution_count": null,
   "metadata": {},
   "outputs": [],
   "source": [
    "# 「片方の文字列を伸ばしてもマッチする文字は増えず、両方の文字列を同時に伸ばすとマッチする可能性がある」が方針\n",
    "# ↓のサイトが分かりやすかった\n",
    "# http://www.deqnotes.net/acmicpc/1458/\n",
    "# DPの式が立ったら素直に実装するだけ\n",
    "# ...TLEしたが？？？\n",
    "\n",
    "# 仕方ないので「s2を一文字ずつ増やしながらマッチする文字のインデックスを逐次更新」路線で組みなおした"
   ]
  },
  {
   "cell_type": "code",
   "execution_count": null,
   "metadata": {},
   "outputs": [],
   "source": [
    "#### 素直実装したらTLEしたが？？？\n",
    "def LCS(s1, s2):\n",
    "\n",
    "    # 0文字のマスもいるのでサイズは文字長+1\n",
    "    dp=[[0]*(len(s2)+1) for _ in range(len(s1)+1)]\n",
    "    dp[0]=[0]*(len(s2)+1)\n",
    "    \n",
    "    for i in range(len(s1)):\n",
    "        for j in range(len(s2)):\n",
    "            if s1[i]==s2[j]:\n",
    "                dp[i+1][j+1]=dp[i][j]+1\n",
    "            else:\n",
    "                dp[i+1][j+1]=max(dp[i][j+1],dp[i+1][j])\n",
    "    \n",
    "    return dp[-1][-1]\n",
    "    \n",
    "q=int(input())\n",
    "for _ in range(q):\n",
    "    s1=input()\n",
    "    s2=input()\n",
    "    print(LCS(s1,s2))\n"
   ]
  },
  {
   "cell_type": "code",
   "execution_count": null,
   "metadata": {
    "scrolled": true
   },
   "outputs": [],
   "source": [
    "# 最長部分文字列長を返す\n",
    "def LCS(s1,s2):\n",
    "    dp=[] #マッチした文字のインデックス\n",
    "    for s2_k in s2:\n",
    "        bgn_idx = 0\n",
    "        \n",
    "        # 過去にマッチした文字たちについて、s2_kが追加されて\n",
    "        # より手前でマッチできる場合はインデックスを更新する\n",
    "        for i in range(len(dp)):\n",
    "            chr_idx = s1.find(s2_k,bgn_idx)\n",
    "            # 探索範囲にs2がなかったらそれ以降変更はないので抜ける\n",
    "            if chr_idx==-1:\n",
    "                break\n",
    "            \n",
    "            # s2_kか過去の最長部分文字列の1文字目のうち手前にあるほうを格納\n",
    "            dp[i] = min(dp[i],chr_idx)\n",
    "            # マッチしたインデックスの次以降からfindが始まる\n",
    "            bgn_idx = dp[i]+1\n",
    "        \n",
    "        # 更新後の最長文字列インデックスのお尻以降にs2_kがあれば一文字伸びる\n",
    "        chr_idx = s1.find(s2_k,bgn_idx)\n",
    "        if chr_idx!=-1:\n",
    "            dp.append(chr_idx)\n",
    "            \n",
    "    return len(dp)\n",
    "\n",
    "\n",
    "q=int(input())\n",
    "for _ in range(q):\n",
    "    s1=input()\n",
    "    s2=input()\n",
    "    print(LCS(s1,s2))"
   ]
  },
  {
   "cell_type": "code",
   "execution_count": null,
   "metadata": {},
   "outputs": [],
   "source": []
  }
 ],
 "metadata": {
  "kernelspec": {
   "display_name": "Python 3",
   "language": "python",
   "name": "python3"
  },
  "language_info": {
   "codemirror_mode": {
    "name": "ipython",
    "version": 3
   },
   "file_extension": ".py",
   "mimetype": "text/x-python",
   "name": "python",
   "nbconvert_exporter": "python",
   "pygments_lexer": "ipython3",
   "version": "3.8.3"
  }
 },
 "nbformat": 4,
 "nbformat_minor": 4
}
