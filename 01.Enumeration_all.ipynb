{
 "cells": [
  {
   "cell_type": "markdown",
   "metadata": {},
   "source": [
    "# 組み合わせの数\n",
    "\n",
    "貼り付け元  <http://judge.u-aizu.ac.jp/onlinejudge/description.jsp?id=ITP1_7_B&lang=ja> "
   ]
  },
  {
   "cell_type": "code",
   "execution_count": null,
   "metadata": {},
   "outputs": [],
   "source": [
    "# i+j+k=x(i<j<k<=n) を満たす数\n",
    "# ⇒ k = x-(i+j) について、j<k<=nであればよい"
   ]
  },
  {
   "cell_type": "code",
   "execution_count": 1,
   "metadata": {},
   "outputs": [
    {
     "name": "stdout",
     "output_type": "stream",
     "text": [
      "5 9\n",
      "2\n",
      "0 0\n"
     ]
    }
   ],
   "source": [
    "def main():\n",
    "    while 1:\n",
    "        n,x=map(int,input().split())\n",
    "        if n==x==0:\n",
    "            break\n",
    "        cnt=0\n",
    "        for i in range(1,n+1):\n",
    "            for j in range(i+1,n+1):\n",
    "                if j<x-i-j<=n:\n",
    "                    cnt+=1\n",
    "        print(cnt)\n",
    "\n",
    "main()"
   ]
  },
  {
   "cell_type": "markdown",
   "metadata": {},
   "source": [
    "# B - 105 \n",
    "\n",
    "貼り付け元  <https://atcoder.jp/contests/abc106/tasks/abc106_b> "
   ]
  },
  {
   "cell_type": "code",
   "execution_count": null,
   "metadata": {},
   "outputs": [],
   "source": [
    "# 問題文に素直に従うだけ"
   ]
  },
  {
   "cell_type": "code",
   "execution_count": 21,
   "metadata": {},
   "outputs": [
    {
     "name": "stdout",
     "output_type": "stream",
     "text": [
      "105\n",
      "1\n"
     ]
    }
   ],
   "source": [
    "def main():\n",
    "    n=int(input())\n",
    "    cnt=0\n",
    "    for i in range(1,n+1,2):\n",
    "        # 全ての約数のsetを返す\n",
    "        def get_yakusuu(x):\n",
    "            p=set()\n",
    "            for p_kouho in range(1,int(x**0.5)+1):\n",
    "                if x%p_kouho==0:\n",
    "                    p.add(p_kouho)\n",
    "                    p.add(x//p_kouho)\n",
    "            return(p)\n",
    "\n",
    "        if len(get_yakusuu(i))==8:\n",
    "            cnt+=1\n",
    "\n",
    "    print(cnt)\n",
    "\n",
    "main()"
   ]
  },
  {
   "cell_type": "markdown",
   "metadata": {},
   "source": [
    "# B - ATCoder\n",
    "貼り付け元  <https://atcoder.jp/contests/abc122/tasks/abc122_b> \n",
    "\n"
   ]
  },
  {
   "cell_type": "code",
   "execution_count": null,
   "metadata": {},
   "outputs": [],
   "source": [
    "# 道中で一番長いA,C,G,Tの連続数を数えればよい\n",
    "# for文の中だけだと最後がA,C,G,Tのどれかで終わると更新されないので気を付ける"
   ]
  },
  {
   "cell_type": "code",
   "execution_count": 22,
   "metadata": {},
   "outputs": [
    {
     "name": "stdout",
     "output_type": "stream",
     "text": [
      "AAAAAAAAAAAAAAAAAAAAAAAAAA\n",
      "26\n"
     ]
    }
   ],
   "source": [
    "def main():\n",
    "    s=input()\n",
    "\n",
    "    ans = 0\n",
    "    cnt = 0\n",
    "    for c in list(s):\n",
    "        if c in [\"A\",\"C\",\"G\",\"T\"]:\n",
    "            cnt+=1\n",
    "        else:\n",
    "            ans=max(ans,cnt)\n",
    "            cnt=0\n",
    "\n",
    "    return max(ans,cnt)\n",
    "\n",
    "print(main())\n",
    "        "
   ]
  },
  {
   "cell_type": "markdown",
   "metadata": {},
   "source": [
    "# カラオケ\n",
    "\n",
    "貼り付け元  <https://atcoder.jp/contests/pakencamp-2019-day3/tasks/pakencamp_2019_day3_c> \n",
    "\n",
    "\n",
    "\n"
   ]
  },
  {
   "cell_type": "code",
   "execution_count": null,
   "metadata": {},
   "outputs": [],
   "source": [
    "# 全曲から2曲選んで歌ってもらう\n",
    "# mC2なので普通に間に合う"
   ]
  },
  {
   "cell_type": "code",
   "execution_count": null,
   "metadata": {},
   "outputs": [],
   "source": [
    "import numpy as np\n",
    "\n",
    "N,M=map(int,input().split())\n",
    "A=np.array([[int(i) for i in input().split()] for _ in range(N)])\n",
    "\n",
    "score=[]\n",
    "for j in range(M):\n",
    "    for jj in range(j+1,M):\n",
    "        score.append(A[:,[j,jj]].max(axis=1).sum())\n",
    "\n",
    "print(max(score))"
   ]
  }
 ],
 "metadata": {
  "kernelspec": {
   "display_name": "Python 3",
   "language": "python",
   "name": "python3"
  },
  "language_info": {
   "codemirror_mode": {
    "name": "ipython",
    "version": 3
   },
   "file_extension": ".py",
   "mimetype": "text/x-python",
   "name": "python",
   "nbconvert_exporter": "python",
   "pygments_lexer": "ipython3",
   "version": "3.8.3"
  }
 },
 "nbformat": 4,
 "nbformat_minor": 4
}
