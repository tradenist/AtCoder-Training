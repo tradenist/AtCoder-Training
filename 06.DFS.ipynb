{
 "cells": [
  {
   "cell_type": "markdown",
   "metadata": {},
   "source": [
    "# Depth First Search\n",
    "\n",
    "#### 貼り付け元  <http://judge.u-aizu.ac.jp/onlinejudge/description.jsp?id=ALDS1_11_B&lang=ja> "
   ]
  },
  {
   "cell_type": "code",
   "execution_count": null,
   "metadata": {},
   "outputs": [],
   "source": [
    "def main():\n",
    "    n=int(input()) # 頂点数\n",
    "\n",
    "    d=[0]*(n+1) # 最初に見つけた時刻\n",
    "    f=[0]*(n+1) # 最後に見つけた時刻\n",
    "\n",
    "    G=[[]]\n",
    "    for i in range(n):\n",
    "        u,k,*v=[int(j) for j in input().split()]\n",
    "        G.append(v)\n",
    "\n",
    "    def dfs(i):\n",
    "        # global...関数外でも値を有効にする\n",
    "        global t,d,f\n",
    "        # iが探索済みなら終了\n",
    "        if d[i]:\n",
    "            return\n",
    "\n",
    "        #探索してなかったら今の場所まで足を運び、時間が1経過する\n",
    "        t+=1\n",
    "        d[i]=t\n",
    "        for q in G[i]:\n",
    "            dfs(q)\n",
    "        # 探索が終わるときはtがそのままなので1を足す\n",
    "        t+=1\n",
    "        f[i]=t\n",
    "\n",
    "    t=0\n",
    "    # 始点は1だけど独立してるノードは未探索になってしまうのでちゃんと全部ループすること\n",
    "    for i in range(1,n+1):\n",
    "        dfs(i) \n",
    "\n",
    "    for i in range(1,n+1):\n",
    "        print(i,d[i],f[i])\n",
    "\n",
    "        \n",
    "main()"
   ]
  },
  {
   "cell_type": "markdown",
   "metadata": {},
   "source": [
    "# How Many Islands?\n",
    "\n",
    "#### 貼り付け元  <http://judge.u-aizu.ac.jp/onlinejudge/description.jsp?id=1160&lang=jp> "
   ]
  },
  {
   "cell_type": "code",
   "execution_count": 1,
   "metadata": {},
   "outputs": [
    {
     "name": "stdout",
     "output_type": "stream",
     "text": [
      "0 0\n"
     ]
    }
   ],
   "source": [
    "import numpy as np\n",
    "\n",
    "while 1:\n",
    "    w,h=map(int,input().split())\n",
    "    # データセット末尾になったら終了\n",
    "    if w==h==0:\n",
    "        break\n",
    "\n",
    "    # 分岐を減らすために周りを海で囲っておく\n",
    "    a_list = [[0]*(w+2)] + \\\n",
    "                [[0]+[int(i) for i in input().split()] +[0] for _ in range(h)] \\\n",
    "            +[[0]*(w+2)]\n",
    "    a = np.array(a_list)\n",
    "\n",
    "    # 関数の外でも変更が有効になるようにする\n",
    "    global d \n",
    "\n",
    "    # 探索済みになったらチェックする配列\n",
    "    d = np.array([[0]*(w+2) for _ in range(h+2)])\n",
    "    # 周りはどうせ海なのでチェック済にしておく\n",
    "    for x in range(h+2):\n",
    "        for y in range(w+2):\n",
    "            if (x in [0,h+1]) or (y in [0,w+1]):\n",
    "                d[x,y]=1\n",
    "\n",
    "    # 探索用関数\n",
    "    def adventure(i,j):\n",
    "        # 今の位置が海なら終了\n",
    "        if a[i,j]==0:\n",
    "            return\n",
    "\n",
    "        # 周囲の点について調べる\n",
    "        for p,q in [[i,j+1],[i+1,j+1],[i+1,j],[i+1,j-1],[i,j-1],[i-1,j-1],[i-1,j],[i-1,j+1]]:\n",
    "            # 探索済みなら次の点に\n",
    "            if d[p,q]!=0:\n",
    "                continue\n",
    "            else:\n",
    "                d[p,q]=1\n",
    "                adventure(p,q)\n",
    "\n",
    "\n",
    "    cnt = 0\n",
    "    # 全点探索する\n",
    "    for x in range(1,h+1):\n",
    "        for y in range(1,w+1):\n",
    "            # まだ未探索の点なら調査する\n",
    "            if d[x,y]==0:\n",
    "                d[x,y]=1\n",
    "                # 陸なら舞い降りる\n",
    "                if a[x,y]==1:\n",
    "                    cnt+=1\n",
    "                    adventure(x,y)\n",
    "\n",
    "    print(cnt)"
   ]
  },
  {
   "cell_type": "markdown",
   "metadata": {},
   "source": [
    "# D - Ki\n",
    "\n",
    "#### 貼り付け元  <https://atcoder.jp/contests/abc138/tasks/abc138_d> "
   ]
  },
  {
   "cell_type": "code",
   "execution_count": null,
   "metadata": {},
   "outputs": [],
   "source": [
    "n,q=map(int,input().split())\n",
    "#abの読み込み\n",
    "\n",
    "c=[0]*(n+1)\n",
    "\n",
    "for _ in range(q):\n",
    "    p,x = map(int,input().split())\n",
    "    c[p]+=x\n",
    "\n"
   ]
  }
 ],
 "metadata": {
  "kernelspec": {
   "display_name": "Python 3",
   "language": "python",
   "name": "python3"
  },
  "language_info": {
   "codemirror_mode": {
    "name": "ipython",
    "version": 3
   },
   "file_extension": ".py",
   "mimetype": "text/x-python",
   "name": "python",
   "nbconvert_exporter": "python",
   "pygments_lexer": "ipython3",
   "version": "3.8.3"
  }
 },
 "nbformat": 4,
 "nbformat_minor": 4
}
