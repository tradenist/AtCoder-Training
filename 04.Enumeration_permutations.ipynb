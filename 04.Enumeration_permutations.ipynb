{
 "cells": [
  {
   "cell_type": "markdown",
   "metadata": {},
   "source": [
    "# C - Average Length\n",
    "\n",
    "貼り付け元  <https://atcoder.jp/contests/abc145/tasks/abc145_c> "
   ]
  },
  {
   "cell_type": "code",
   "execution_count": null,
   "metadata": {},
   "outputs": [],
   "source": [
    "# 問題の指示に従って計算\n",
    "# nの階乗は高々40320なので経路を全部足してから最後に割ればいい"
   ]
  },
  {
   "cell_type": "code",
   "execution_count": null,
   "metadata": {},
   "outputs": [],
   "source": [
    "from itertools import permutations\n",
    "from math import factorial\n",
    "\n",
    "def main():\n",
    "    n=int(input())\n",
    "    town=[[int(i) for i in input().split()] for _ in range(n)]\n",
    "\n",
    "    l=0\n",
    "    for t in permutations(town):\n",
    "        for i in range(n-1):\n",
    "           l+=((t[i][0]-t[i-1][0])**2 + (t[i][1]-t[i-1][1])**2)**0.5\n",
    "    print(l/factorial(n))\n",
    "\n",
    "main()"
   ]
  },
  {
   "cell_type": "markdown",
   "metadata": {},
   "source": [
    "# C - Count Order\n",
    "\n",
    "貼り付け元  <https://atcoder.jp/contests/abc150/tasks/abc150_c> \n"
   ]
  },
  {
   "cell_type": "code",
   "execution_count": null,
   "metadata": {},
   "outputs": [],
   "source": [
    "from itertools import permutations\n",
    "\n",
    "n=int(input())\n",
    "p=tuple([int(i) for i in input().split()])\n",
    "q=tuple([int(i) for i in input().split()])\n",
    "\n",
    "cnt=1\n",
    "for r in permutations(range(1,n+1)):\n",
    "    if r==p:\n",
    "        a=cnt\n",
    "    if r==q:\n",
    "        b=cnt\n",
    "    cnt+=1\n",
    "\n",
    "print(abs(a-b))"
   ]
  },
  {
   "cell_type": "markdown",
   "metadata": {},
   "source": [
    "# 8 Queens Problem\n",
    "\n",
    "貼り付け元  <http://judge.u-aizu.ac.jp/onlinejudge/description.jsp?id=ALDS1_13_A&lang=ja> \n"
   ]
  },
  {
   "cell_type": "code",
   "execution_count": null,
   "metadata": {},
   "outputs": [],
   "source": [
    "# 0-7マスのうち既に配置されているk行・k列を除外して(8-k)!通りを探索\n",
    "# 縦横は絶対に被らないので、斜めに衝突が起きていないかを確認すればよい\n",
    "# 探索方法...2点間の|x座標の差|-|y座標の差|が0でなければよい　これを8C2通り繰り返す"
   ]
  },
  {
   "cell_type": "code",
   "execution_count": null,
   "metadata": {},
   "outputs": [],
   "source": [
    "from itertools import permutations,combinations\n",
    "\n",
    "k=int(input())\n",
    "rc=set()\n",
    "r_kouho=list(range(8))\n",
    "c_kouho=list(range(8))\n",
    "for _ in range(k):\n",
    "    r,c=[int(i) for i in input().split()]\n",
    "    rc.add(tuple([r,c]))\n",
    "    r_kouho.remove(r)\n",
    "    c_kouho.remove(c)\n",
    "\n",
    "# c_kouho(列番号候補)と、並べ替えたあとのr_kouhoを結び付けてクイーンの座標とする\n",
    "for p in permutations(r_kouho):\n",
    "    # クイーンの座標候補を作る\n",
    "    rc2=rc.copy()\n",
    "    for i in range(8-k):\n",
    "        rc2.add(tuple([p[i],c_kouho[i]]))\n",
    "        \n",
    "    # 斜めに干渉していないかチェック\n",
    "    flg=True\n",
    "    for Q1,Q2 in combinations(rc2,2):\n",
    "        if abs(Q2[0]-Q1[0])-abs(Q2[1]-Q1[1])==0:\n",
    "            flg=False\n",
    "            break\n",
    "        \n",
    "    # 正解を引いたら抜ける\n",
    "    if flg:\n",
    "        break\n",
    "\n",
    "# Qを配置\n",
    "ans=[[\".\"]*8 for _ in range(8)]\n",
    "for Q in rc2:\n",
    "    ans[Q[0]][Q[1]]=\"Q\"\n",
    "\n",
    "for ans_row in ans:\n",
    "    print(\"\".join(ans_row))"
   ]
  }
 ],
 "metadata": {
  "kernelspec": {
   "display_name": "Python 3",
   "language": "python",
   "name": "python3"
  },
  "language_info": {
   "codemirror_mode": {
    "name": "ipython",
    "version": 3
   },
   "file_extension": ".py",
   "mimetype": "text/x-python",
   "name": "python",
   "nbconvert_exporter": "python",
   "pygments_lexer": "ipython3",
   "version": "3.8.3"
  }
 },
 "nbformat": 4,
 "nbformat_minor": 4
}
