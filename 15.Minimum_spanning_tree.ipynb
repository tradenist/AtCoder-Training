{
 "cells": [
  {
   "cell_type": "markdown",
   "metadata": {},
   "source": [
    "# 最小全域木"
   ]
  },
  {
   "cell_type": "markdown",
   "metadata": {},
   "source": [
    "# Minimum Spanning Tree\n",
    "\n",
    "貼り付け元  <http://judge.u-aizu.ac.jp/onlinejudge/description.jsp?id=GRL_2_A&lang=ja> \n"
   ]
  },
  {
   "cell_type": "code",
   "execution_count": 4,
   "metadata": {},
   "outputs": [
    {
     "name": "stdout",
     "output_type": "stream",
     "text": [
      "4 6\n",
      "0 1 2\n",
      "1 2 1\n",
      "2 3 1\n",
      "3 0 1\n",
      "0 2 3\n",
      "1 3 5\n",
      "3\n"
     ]
    }
   ],
   "source": [
    "# クラスカル法による最小全域木\n",
    "\n",
    "# UnionFindのライブラリが必要なので引っ張ってくる\n",
    "class UnionFindTree:\n",
    "    def __init__(self, n):\n",
    "        self.par = list(range(n)) # par[i]:iの親のノード番号が入ってる\n",
    "        self.rank = [0] * n # 木の深さ\n",
    " \n",
    "    # xの根の番号を返す\n",
    "    def find(self, x):\n",
    "        if self.par[x] == x:\n",
    "            return x\n",
    "        else:\n",
    "            self.par[x] = self.find(self.par[x])\n",
    "            return self.par[x]\n",
    " \n",
    "    # xとyを結合する\n",
    "    def unite(self, x, y):\n",
    "        rx = self.find(x) # xの根\n",
    "        ry = self.find(y) # yの根\n",
    "        if rx == ry: return\n",
    " \n",
    "        # 浅いほうにくっつける\n",
    "        if self.rank[rx] < self.rank[ry]:\n",
    "            self.par[rx] = ry\n",
    "        else:\n",
    "            self.par[ry] = rx\n",
    "            if self.rank[rx] == self.rank[ry]:\n",
    "                self.rank[rx] += 1\n",
    "        \n",
    "    # 同じグループか判定する\n",
    "    def same(self, x, y):\n",
    "        return self.find(x) == self.find(y)\n",
    "    \n",
    "    \n",
    "v,e=map(int,input().split())\n",
    "uf=UnionFindTree(v)\n",
    "\n",
    "# 辺をコストの安い順にソートする\n",
    "edges=[]\n",
    "for _ in range(e):\n",
    "    s,t,w = map(int,input().split())\n",
    "    edges.append((s,t,w))\n",
    "edges.sort(key=lambda x:x[2])\n",
    "    \n",
    "# 安い順にチェックして、つなげても閉路を作らないのならつなぐ\n",
    "cost=0\n",
    "for edge in edges:\n",
    "    s,t,w = edge\n",
    "    if not uf.same(s,t):\n",
    "        cost += w\n",
    "        uf.unite(s,t)\n",
    "print(cost)"
   ]
  },
  {
   "cell_type": "markdown",
   "metadata": {},
   "source": [
    "# finals - 本選会場 (Finals)\n",
    "\n",
    "貼り付け元  <https://atcoder.jp/contests/joisc2010/tasks/joisc2010_finals> "
   ]
  },
  {
   "cell_type": "code",
   "execution_count": null,
   "metadata": {},
   "outputs": [],
   "source": [
    "class UnionFindTree:\n",
    "    def __init__(self, n):\n",
    "        self.par = list(range(n)) # par[i]:iの親のノード番号が入ってる\n",
    "        self.rank = [0] * n # 木の深さ\n",
    " \n",
    "    # xの根の番号を返す\n",
    "    def find(self, x):\n",
    "        if self.par[x] == x:\n",
    "            return x\n",
    "        else:\n",
    "            self.par[x] = self.find(self.par[x])\n",
    "            return self.par[x]\n",
    " \n",
    "    # xとyを結合する\n",
    "    def unite(self, x, y):\n",
    "        rx = self.find(x) # xの根\n",
    "        ry = self.find(y) # yの根\n",
    "        if rx == ry: return\n",
    " \n",
    "        # 浅いほうにくっつける\n",
    "        if self.rank[rx] < self.rank[ry]:\n",
    "            self.par[rx] = ry\n",
    "        else:\n",
    "            self.par[ry] = rx\n",
    "            if self.rank[rx] == self.rank[ry]:\n",
    "                self.rank[rx] += 1\n",
    "        \n",
    "    # 同じグループか判定する\n",
    "    def same(self, x, y):\n",
    "        return self.find(x) == self.find(y)\n",
    "    \n",
    "\n",
    "n,m,k=map(int,input().split())\n",
    "uf = UnionFindTree(n)\n",
    "\n",
    "edges=[]\n",
    "for _ in range(m):\n",
    "    s,t,w=[int(i) for i in input().split()]\n",
    "    edges.append([s-1,t-1,w])\n",
    "edges.sort(key=lambda x:x[2])\n",
    "\n",
    "cost = 0\n",
    "path_cost=[]\n",
    "for edge in edges:\n",
    "    s,t,w=edge\n",
    "    if not uf.same(s,t):\n",
    "        cost +=w\n",
    "        uf.unite(s,t)\n",
    "        path_cost.append(w)\n",
    "path_cost.sort(reverse=True)\n",
    "total_path_cost=sum(path_cost[:k-1])\n",
    "\n",
    "print(cost-total_path_cost)"
   ]
  }
 ],
 "metadata": {
  "kernelspec": {
   "display_name": "Python 3",
   "language": "python",
   "name": "python3"
  },
  "language_info": {
   "codemirror_mode": {
    "name": "ipython",
    "version": 3
   },
   "file_extension": ".py",
   "mimetype": "text/x-python",
   "name": "python",
   "nbconvert_exporter": "python",
   "pygments_lexer": "ipython3",
   "version": "3.8.3"
  }
 },
 "nbformat": 4,
 "nbformat_minor": 4
}
