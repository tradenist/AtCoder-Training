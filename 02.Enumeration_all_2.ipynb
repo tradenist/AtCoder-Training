{
 "cells": [
  {
   "cell_type": "markdown",
   "metadata": {},
   "source": [
    "# C - Half and Half \n",
    "\n",
    "貼り付け元  <https://atcoder.jp/contests/abc095/tasks/arc096_a> "
   ]
  },
  {
   "cell_type": "code",
   "execution_count": null,
   "metadata": {},
   "outputs": [],
   "source": [
    "# 別に全列挙する必要はない\n",
    "\n",
    "# ピザa,bをmin(X,Y)枚用意して、残ったほうを必要枚数買いそろえればよい\n",
    "# ピザa,bの同数枚用意:min((A+B),2C)*min(X,Y)\n",
    "# 残った必要分はmin(2C,(必要なほうのピザの額))*(残りの枚数)"
   ]
  },
  {
   "cell_type": "code",
   "execution_count": 27,
   "metadata": {},
   "outputs": [
    {
     "name": "stdout",
     "output_type": "stream",
     "text": [
      "1500 2000 500 90000 100000\n"
     ]
    }
   ],
   "source": [
    "A,B,C,X,Y=map(int,input().split())\n",
    "print(min((A+B),2*C)*min(X,Y) + min(2*C,[A,B][X<Y])*abs(X-Y))"
   ]
  },
  {
   "cell_type": "markdown",
   "metadata": {},
   "source": [
    "# D - Lucky PIN\n",
    "\n",
    "貼り付け元  <https://atcoder.jp/contests/sumitrust2019/tasks/sumitb2019_d> "
   ]
  },
  {
   "cell_type": "code",
   "execution_count": 29,
   "metadata": {},
   "outputs": [],
   "source": [
    "# 暗証番号は高々1000通りなので、0から999までのうち（sからN-3文字を取り除いた数）に含まれているものの個数を数えればよい"
   ]
  },
  {
   "cell_type": "code",
   "execution_count": 43,
   "metadata": {},
   "outputs": [
    {
     "name": "stdout",
     "output_type": "stream",
     "text": [
      "19\n",
      "3141592653589793238\n",
      "329\n"
     ]
    }
   ],
   "source": [
    "def main():\n",
    "    n=int(input())\n",
    "    s=input()\n",
    "\n",
    "    cnt=0\n",
    "    #一桁目の候補\n",
    "    for i in range(10):\n",
    "        i=str(i)\n",
    "        if i in s:\n",
    "            idx_0=s.index(i)\n",
    "\n",
    "            #二桁目の候補\n",
    "            for j in range(10):\n",
    "                j=str(j)\n",
    "                if j in s[idx_0+1:]:\n",
    "                    idx_1=idx_0+s[idx_0+1:].index(j)+1\n",
    "\n",
    "                    #三桁目の候補\n",
    "                    for k in range(10):\n",
    "                        k=str(k)\n",
    "                        if k in s[idx_1+1:]:\n",
    "                            cnt+=1\n",
    "    print(cnt)\n",
    "    \n",
    "main()                "
   ]
  },
  {
   "cell_type": "markdown",
   "metadata": {},
   "source": [
    "# C - 最古の遺跡\n",
    "\n",
    "貼り付け元  <https://atcoder.jp/contests/joi2007ho/tasks/joi2007ho_c> "
   ]
  },
  {
   "cell_type": "code",
   "execution_count": 79,
   "metadata": {},
   "outputs": [],
   "source": [
    "# ノードリストから2点選び、正方形を描くのに必要な残りの2点がノードリストに入っているか調べる\n",
    "# 入っていたらその正方形の面積を計算し、一番大きいやつが答え"
   ]
  },
  {
   "cell_type": "code",
   "execution_count": 78,
   "metadata": {},
   "outputs": [
    {
     "name": "stdout",
     "output_type": "stream",
     "text": [
      "10\n",
      "9 4\n",
      "4 3\n",
      "1 1\n",
      "4 2\n",
      "2 4\n",
      "5 8\n",
      "4 0\n",
      "5 3\n",
      "0 5\n",
      "5 2\n",
      "10\n"
     ]
    }
   ],
   "source": [
    "from itertools import combinations\n",
    "\n",
    "n=int(input())\n",
    "v=set()\n",
    "for _ in range(n):\n",
    "    v.add(tuple(int(i) for i in input().split()))\n",
    "\n",
    "ans=0\n",
    "for p1,p2 in combinations(v,2):\n",
    "    d_12x=p2[0]-p1[0]\n",
    "    d_12y=p2[1]-p1[1]\n",
    "    if (((p1[0]-d_12y,p1[1]+d_12x) in v) and ((p2[0]-d_12y,p2[1]+d_12x) in v)):\n",
    "        ans=max(ans,d_12x**2+d_12y**2)\n",
    "print(ans)"
   ]
  },
  {
   "cell_type": "markdown",
   "metadata": {},
   "source": [
    "# AtCoder Market\n",
    "\n",
    "貼り付け元  <https://atcoder.jp/contests/s8pc-6/tasks/s8pc_6_b> "
   ]
  },
  {
   "cell_type": "code",
   "execution_count": null,
   "metadata": {},
   "outputs": [],
   "source": [
    "# 別に全探索の必要ない　マンハッタン距離\n",
    "\n",
    "# 入口出口をA_i,B_iの中央値に置けばよい\n",
    "# |A_i - A_median| + |B_i - B_median| + |A_1-B_i|が答え"
   ]
  },
  {
   "cell_type": "code",
   "execution_count": 80,
   "metadata": {},
   "outputs": [
    {
     "name": "stdout",
     "output_type": "stream",
     "text": [
      "3\n",
      "5 7\n",
      "2 6\n",
      " 8 10\n"
     ]
    }
   ],
   "source": [
    "import numpy as np\n",
    "n=int(input())\n",
    "ab=np.array([[int(i) for i in input().split()] for _ in range(n)])\n",
    "ans = abs(ab-np.median(ab,axis=0)).sum().sum() + abs(ab[:,0]-ab[:,1]).sum()\n",
    "\n",
    "print(int(ans))"
   ]
  },
  {
   "cell_type": "markdown",
   "metadata": {},
   "source": [
    "# D - 星座探し 解説\n",
    "\n",
    "貼り付け元  <https://atcoder.jp/contests/joi2008yo/tasks/joi2008yo_d> \n"
   ]
  },
  {
   "cell_type": "code",
   "execution_count": 99,
   "metadata": {},
   "outputs": [
    {
     "name": "stdout",
     "output_type": "stream",
     "text": [
      "2 -3\n"
     ]
    }
   ],
   "source": [
    "m=int(input())\n",
    "seiza=[[int(i) for i in input().split()] for _ in range(m)]\n",
    "\n",
    "n=int(input())\n",
    "star=set()\n",
    "for _ in range(n):\n",
    "    star.add(tuple([int(i) for i in input().split()]))\n",
    "\n",
    "\n",
    "#seiza[0]とstarの一点が一致するように星座を平行移動 \n",
    "for seiza_parts in star:\n",
    "    dx=seiza_parts[0]-seiza[0][0]\n",
    "    dy=seiza_parts[1]-seiza[0][1]\n",
    "    seiza2=[ tuple([s[0]+dx,s[1]+dy]) for s in seiza]\n",
    "    # このとき、他の星座構成要素が全てstar群に含まれていればその時の移動量が答え\n",
    "    flg=True\n",
    "    for seiza2_star in seiza2:\n",
    "        if seiza2_star not in star:\n",
    "            flg=False\n",
    "            break\n",
    "    if flg:\n",
    "        print(dx,dy)\n",
    "        break"
   ]
  },
  {
   "cell_type": "code",
   "execution_count": null,
   "metadata": {},
   "outputs": [],
   "source": []
  }
 ],
 "metadata": {
  "kernelspec": {
   "display_name": "Python 3",
   "language": "python",
   "name": "python3"
  },
  "language_info": {
   "codemirror_mode": {
    "name": "ipython",
    "version": 3
   },
   "file_extension": ".py",
   "mimetype": "text/x-python",
   "name": "python",
   "nbconvert_exporter": "python",
   "pygments_lexer": "ipython3",
   "version": "3.8.3"
  }
 },
 "nbformat": 4,
 "nbformat_minor": 4
}
