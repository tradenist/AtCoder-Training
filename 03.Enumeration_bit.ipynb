{
 "cells": [
  {
   "cell_type": "markdown",
   "metadata": {},
   "source": [
    "# Exhaustive Search\n",
    "\n",
    "貼り付け元  <http://judge.u-aizu.ac.jp/onlinejudge/description.jsp?id=ALDS1_5_A&lang=ja> "
   ]
  },
  {
   "cell_type": "code",
   "execution_count": null,
   "metadata": {},
   "outputs": [],
   "source": [
    "# m_iごとにbit全探索をするのは時間がもったいない\n",
    "# Aの要素を足し合わせてできる数をすべて記録して、m_iがそこに入っているかで判定する"
   ]
  },
  {
   "cell_type": "code",
   "execution_count": null,
   "metadata": {},
   "outputs": [],
   "source": [
    "def main()\n",
    "    n=int(input())\n",
    "    A=[int(i) for i in input().split()]\n",
    "    A.sort()\n",
    "    q=int(input())\n",
    "    M=[int(i) for i in input().split()]\n",
    "\n",
    "\n",
    "    ss=set()\n",
    "    for i in range(2**n):\n",
    "        s=0\n",
    "        for j in range(n):\n",
    "            if i>>j & 1:\n",
    "                s+=A[j]\n",
    "        ss.add(s)\n",
    "\n",
    "    for m in M:\n",
    "        print(\"yes\" if (m in ss) else \"no\")\n",
    "        \n",
    "main()"
   ]
  },
  {
   "cell_type": "markdown",
   "metadata": {},
   "source": [
    "# C - Switches \n",
    "\n",
    "貼り付け元  <https://atcoder.jp/contests/abc128/tasks/abc128_c> "
   ]
  },
  {
   "cell_type": "code",
   "execution_count": null,
   "metadata": {},
   "outputs": [],
   "source": [
    "def main():\n",
    "    n,m=map(int,input().split())\n",
    "    s = [[int(i) for i in input().split()][1:] for _ in range(m)]\n",
    "    p = [int(i) for i in input().split()]\n",
    "\n",
    "    ans=0\n",
    "    for pattern in range(2**n):\n",
    "        # オンになるスイッチの番号を格納\n",
    "        sw=set()\n",
    "        for bit in range(n):\n",
    "            if pattern>>bit & 1:\n",
    "                sw.add(bit+1)\n",
    "\n",
    "        # i番目の電球がつくか調べる\n",
    "        cnt=0\n",
    "        for i in range(m):\n",
    "            if p[i] == sum([(ss in sw) for ss in s[i]])%2:\n",
    "                cnt+=1\n",
    "            else:\n",
    "                break\n",
    "\n",
    "        if cnt==m:\n",
    "            ans+=1\n",
    "\n",
    "    print(ans)\n",
    "    \n",
    "main()"
   ]
  },
  {
   "cell_type": "markdown",
   "metadata": {},
   "source": [
    "# D - 派閥 解説\n",
    "\n",
    "貼り付け元  <https://atcoder.jp/contests/abc002/tasks/abc002_4> \n"
   ]
  },
  {
   "cell_type": "code",
   "execution_count": null,
   "metadata": {},
   "outputs": [],
   "source": [
    "# n人中何人かを選んだ組み合わせについて、\n",
    "# それぞれがちゃんと知り合っていればよい"
   ]
  },
  {
   "cell_type": "code",
   "execution_count": null,
   "metadata": {},
   "outputs": [],
   "source": [
    "def main():\n",
    "    n,m=map(int,input().split())\n",
    "    # 初期状態として自分自身を知り合いにしてる\n",
    "    siriai=[{i} for i in range(n+1)]\n",
    "    for _ in range(m):\n",
    "        x,y=map(int,input().split())\n",
    "        siriai[x].add(y)\n",
    "        siriai[y].add(x)\n",
    "\n",
    "    ans=0\n",
    "    for pattern in range(2**n):\n",
    "        # 派閥構成員を選ぶ\n",
    "        habatu=set()\n",
    "        for bit in range(n):\n",
    "            if pattern>>bit & 1:\n",
    "                habatu.add(bit+1)\n",
    "                \n",
    "        #siriai[p]にhabatuの全員がいればよい\n",
    "        flg=True\n",
    "        for p in habatu:\n",
    "            if len(siriai[p]&habatu) != len(habatu):\n",
    "                flg=False\n",
    "                break\n",
    "\n",
    "        if flg:\n",
    "            ans=max(ans,len(habatu)) \n",
    "\n",
    "    print(ans)\n",
    "    \n",
    "main()"
   ]
  },
  {
   "cell_type": "markdown",
   "metadata": {},
   "source": [
    "# E - おせんべい \n",
    "\n",
    "貼り付け元  <https://atcoder.jp/contests/joi2008yo/tasks/joi2008yo_e> "
   ]
  },
  {
   "cell_type": "code",
   "execution_count": null,
   "metadata": {},
   "outputs": [],
   "source": [
    "# 行数が10行までなので、10行の内何行かを裏返す操作を行ったあと、1列ずつ値を最大化する\n",
    "# 行を裏返す前に初期化するのを忘れないように"
   ]
  },
  {
   "cell_type": "code",
   "execution_count": null,
   "metadata": {},
   "outputs": [],
   "source": [
    "import numpy as np\n",
    "\n",
    "r,c=map(int,input().split())\n",
    "a=np.array([[int(i) for i in input().split()] for _ in range(r)])\n",
    "\n",
    "ans=0\n",
    "for pettern in range(2**r):\n",
    "    # 何も裏返していない状態で初期化\n",
    "    b=a.copy()\n",
    "    for bit in range(r):\n",
    "        if pettern>>bit &1:\n",
    "            # XORを取って裏返す\n",
    "            b[bit,:]=b[bit,:]^1\n",
    "    cnt=0\n",
    "    # 一列ずつ出荷できる枚数を最大化\n",
    "    cnt = np.max([np.count_nonzero(b==0,axis=0), np.count_nonzero(b==1,axis=0)],axis=0).sum()\n",
    "    ans=max(cnt,ans)\n",
    "    \n",
    "print(ans)"
   ]
  },
  {
   "cell_type": "markdown",
   "metadata": {},
   "source": [
    "# B - Buildings are Colorful! 解説\n",
    "貼り付け元  <https://atcoder.jp/contests/s8pc-4/tasks/s8pc_4_b> \n",
    "\n"
   ]
  },
  {
   "cell_type": "code",
   "execution_count": null,
   "metadata": {},
   "outputs": [],
   "source": [
    "# (n-1)C(k-1)通りの建物を見えるようにする　1を引いたのは最前の建物は絶対見えているから\n",
    "# bit全探索ではなくcombinationを使った"
   ]
  },
  {
   "cell_type": "code",
   "execution_count": null,
   "metadata": {},
   "outputs": [],
   "source": [
    "from itertools import combinations\n",
    "from copy import copy\n",
    "\n",
    "n,k=map(int,input().split())\n",
    "a_origin=[int(i) for i in input().split()]\n",
    "\n",
    "ans=float(\"inf\")\n",
    "for towers in combinations(range(1,n),k-1):\n",
    "    a=copy(a_origin)\n",
    "    cost=0\n",
    "    # indexがtの建物が見えるように逐次高くしていく\n",
    "    for t in towers:\n",
    "        cost_t=max(max(a[:t])-a[t]+1,0)\n",
    "        a[t]+=cost_t\n",
    "        cost+=cost_t\n",
    "    ans=min(ans,cost)\n",
    "    \n",
    "print(ans)"
   ]
  },
  {
   "cell_type": "code",
   "execution_count": null,
   "metadata": {},
   "outputs": [],
   "source": []
  }
 ],
 "metadata": {
  "kernelspec": {
   "display_name": "Python 3",
   "language": "python",
   "name": "python3"
  },
  "language_info": {
   "codemirror_mode": {
    "name": "ipython",
    "version": 3
   },
   "file_extension": ".py",
   "mimetype": "text/x-python",
   "name": "python",
   "nbconvert_exporter": "python",
   "pygments_lexer": "ipython3",
   "version": "3.8.3"
  }
 },
 "nbformat": 4,
 "nbformat_minor": 4
}
