{
 "cells": [
  {
   "cell_type": "markdown",
   "metadata": {},
   "source": [
    "# ワーシャルフロイド法"
   ]
  },
  {
   "cell_type": "markdown",
   "metadata": {},
   "source": [
    "# All Pairs Shortest Path\n",
    "\n",
    "貼り付け元  <http://judge.u-aizu.ac.jp/onlinejudge/description.jsp?id=GRL_1_C&lang=ja>"
   ]
  },
  {
   "cell_type": "code",
   "execution_count": 6,
   "metadata": {},
   "outputs": [
    {
     "name": "stdout",
     "output_type": "stream",
     "text": [
      "4 6\n",
      "0 1 1\n",
      "0 2 5\n",
      "1 2 2\n",
      "1 3 4\n",
      "2 3 1\n",
      "3 2 -7\n"
     ]
    }
   ],
   "source": [
    "# ノード, エッジ\n",
    "v,e=map(int,input().split())\n",
    "\n",
    "# i⇒j の最短経路　最初はinfで初期化\n",
    "dp=[[float(\"inf\")]*v for _ in range(v)]\n",
    "\n",
    "# 初期値の代入\n",
    "for q in range(e):\n",
    "    s,t,d=map(int,input().split())\n",
    "    dp[s][t]=d"
   ]
  },
  {
   "cell_type": "code",
   "execution_count": 7,
   "metadata": {},
   "outputs": [
    {
     "name": "stdout",
     "output_type": "stream",
     "text": [
      "NEGATIVE CYCLE\n",
      "NEGATIVE CYCLE\n"
     ]
    }
   ],
   "source": [
    "# i⇒jの最短経路探索 点kに寄り道とストレートどっちが早いか比較\n",
    "for k in range(v):\n",
    "    for i in range(v):\n",
    "        for j in range(v):\n",
    "            dp[i][j]=min(dp[i][j],dp[i][k]+dp[k][j])\n",
    "\n",
    "# あとは結果を書き出すだけ\n",
    "flg=True\n",
    "for i in range(v):\n",
    "    if dp[i][i]<0:\n",
    "        print(\"NEGATIVE CYCLE\")\n",
    "        flg=False\n",
    "        break\n",
    "    else:\n",
    "        dp[i][i]=0\n",
    "\n",
    "if flg:\n",
    "    for i in range(v):\n",
    "        print((\" \".join(map(str,dp[i]))).replace(\"inf\",\"INF\"))"
   ]
  },
  {
   "attachments": {},
   "cell_type": "markdown",
   "metadata": {},
   "source": [
    "# D - バスと避けられない運命\n",
    "\n",
    "貼り付け元  https://atcoder.jp/contests/abc012/tasks/abc012_4"
   ]
  },
  {
   "cell_type": "code",
   "execution_count": 13,
   "metadata": {},
   "outputs": [
    {
     "name": "stdout",
     "output_type": "stream",
     "text": [
      "3 2\n",
      "1 2 10\n",
      "2 3 10\n",
      "10\n"
     ]
    }
   ],
   "source": [
    "# ノード, エッジ\n",
    "n,m=map(int,input().split())\n",
    "\n",
    "# i⇒j の最短経路　最初はinfで初期化\n",
    "dp=[[float(\"inf\")]*n for _ in range(n)]\n",
    "\n",
    "# 初期値の代入\n",
    "for q in range(m):\n",
    "    a,b,d=map(int,input().split())\n",
    "    # 重みは往復入れる\n",
    "    dp[a-1][b-1]=d\n",
    "    dp[b-1][a-1]=d\n",
    "\n",
    "# i⇒jの最短経路探索 点kに寄り道とストレートどっちが早いか比較\n",
    "for k in range(n):\n",
    "    for i in range(n):\n",
    "        for j in range(n):\n",
    "            dp[i][j]=min(dp[i][j],dp[i][k]+dp[k][j])\n",
    "\n",
    "# max(dp[i])(i⇒iの移動除く)が最も小さい点に住めばよい\n",
    "max_time=[]\n",
    "for i in range(n):\n",
    "    t_list=dp[i]\n",
    "    t_list[i]=0\n",
    "    max_time.append(max(t_list))\n",
    "    \n",
    "print(min(max_time))"
   ]
  },
  {
   "cell_type": "markdown",
   "metadata": {},
   "source": [
    "# D - Wall\n",
    "\n",
    "貼り付け元  <https://atcoder.jp/contests/abc079/tasks/abc079_d> \n"
   ]
  },
  {
   "cell_type": "code",
   "execution_count": 14,
   "metadata": {},
   "outputs": [
    {
     "name": "stdout",
     "output_type": "stream",
     "text": [
      "2 4\n",
      "0 9 9 9 9 9 9 9 9 9\n",
      "9 0 9 9 9 9 9 9 9 9\n",
      "9 9 0 9 9 9 9 9 9 9 \n",
      "9 9 9 0 9 9 9 9 9 9\n",
      "9 9 9 9 0 9 9 9 9 2\n",
      "9 9 9 9 9 0 9 9 9 9 \n",
      "9 9 9 9 9 9 0 9 9 9\n",
      "9 9 9 9 9 9 9 0 9 9\n",
      "9 9 9 9 2 9 9 9 0 9\n",
      "9 2 9 9 9 9 9 9 9 0\n",
      "-1 -1 -1 -1\n",
      "8 1 1 8\n",
      "12\n"
     ]
    }
   ],
   "source": [
    "h,w=map(int,input().split())\n",
    "\n",
    "# コストを記録\n",
    "c=[[int(i) for i in input().split()] for _ in range(10)]\n",
    "\n",
    "# i⇒jの最小変換コストを求める\n",
    "for k in range(10):\n",
    "    for i in range(10):\n",
    "        for j in range(10):\n",
    "            c[i][j]=min(c[i][j],c[i][k]+c[k][j])\n",
    "\n",
    "# 二次元で確保する必要はないので一次元リストにする\n",
    "a=[[int(i) for i in input().split()] for _ in range(h)]\n",
    "a=sum(a,[])\n",
    "\n",
    "ans=0\n",
    "for i in range(10):\n",
    "    # c[i][1]:iを1に変えるのに必要な最小コスト\n",
    "    ans+=a.count(i)*c[i][1]\n",
    "    \n",
    "print(ans)"
   ]
  },
  {
   "cell_type": "markdown",
   "metadata": {},
   "source": [
    "# D - Restoring Road Network\n",
    "\n",
    "https://atcoder.jp/contests/abc074/tasks/arc083_b"
   ]
  },
  {
   "cell_type": "code",
   "execution_count": 7,
   "metadata": {},
   "outputs": [
    {
     "name": "stdout",
     "output_type": "stream",
     "text": [
      "3\n",
      "0 1 3\n",
      "1 0 1\n",
      "3 1 0\n"
     ]
    }
   ],
   "source": [
    "from copy import deepcopy\n",
    "\n",
    "n=int(input())\n",
    "a=[[int(i) for i in input().split()] for _ in range(n)]\n",
    "b=deepcopy(a)\n",
    "# aをワーシャルフロイドにかける\n",
    "for k in range(n):\n",
    "    for i in range(n):\n",
    "        for j in range(n):\n",
    "            a[i][j]=min(a[i][j],a[i][k]+a[k][j])\n",
    "\n",
    "# 更新されたら最短経路を張れるパスはない\n",
    "if a!=b:\n",
    "    print(-1)\n",
    "\n",
    "# 更新されなかったら最短経路を張れるパスを考える\n",
    "else:\n",
    "    # 各パスについて、a[i][j]>=a[i][k]+a[k][j](k!=i,j)となるパスがなけれればa[i][j]のパスは必要\n",
    "    ans=0\n",
    "    for i in range(n):\n",
    "        for j in range(i+1,n):\n",
    "            # 寄り道のほうが早いかチェック\n",
    "            flg=True\n",
    "            for k in range(n):\n",
    "                if (k not in [i,j]) and a[i][j]<a[i][k]+a[k][j]:\n",
    "                    flg=False\n",
    "            # どう寄り道しても早くならなかったら必要なパスなので足す\n",
    "            if flg:\n",
    "                ans+=a[i][j]\n",
    "    print(ans)"
   ]
  },
  {
   "cell_type": "code",
   "execution_count": null,
   "metadata": {},
   "outputs": [],
   "source": []
  }
 ],
 "metadata": {
  "kernelspec": {
   "display_name": "Python 3",
   "language": "python",
   "name": "python3"
  },
  "language_info": {
   "codemirror_mode": {
    "name": "ipython",
    "version": 3
   },
   "file_extension": ".py",
   "mimetype": "text/x-python",
   "name": "python",
   "nbconvert_exporter": "python",
   "pygments_lexer": "ipython3",
   "version": "3.8.3"
  }
 },
 "nbformat": 4,
 "nbformat_minor": 4
}
