{
 "cells": [
  {
   "cell_type": "markdown",
   "metadata": {},
   "source": [
    "# Disjoint Set: Union Find Tree\n",
    "\n",
    "貼り付け元  <http://judge.u-aizu.ac.jp/onlinejudge/description.jsp?id=DSL_1_A&lang=ja> "
   ]
  },
  {
   "cell_type": "code",
   "execution_count": null,
   "metadata": {},
   "outputs": [],
   "source": [
    "class UnionFindTree:\n",
    "    def __init__(self, n):\n",
    "        self.par = list(range(n)) # par[i]:iの親のノード番号が入ってる\n",
    "        self.rank = [0] * n # 木の深さ\n",
    " \n",
    "    # xの根の番号を返す\n",
    "    def find(self, x):\n",
    "        if self.par[x] == x:\n",
    "            return x\n",
    "        else:\n",
    "            self.par[x] = self.find(self.par[x])\n",
    "            return self.par[x]\n",
    " \n",
    "    # xとyを結合する\n",
    "    def unite(self, x, y):\n",
    "        rx = self.find(x) # xの根\n",
    "        ry = self.find(y) # yの根\n",
    "        if rx == ry: return\n",
    " \n",
    "        # 浅いほうにくっつける\n",
    "        if self.rank[rx] < self.rank[ry]:\n",
    "            self.par[rx] = ry\n",
    "        else:\n",
    "            self.par[ry] = rx\n",
    "            if self.rank[rx] == self.rank[ry]:\n",
    "                self.rank[rx] += 1\n",
    " \n",
    "    # 同じグループか判定する\n",
    "    def same(self, x, y):\n",
    "        return self.find(x) == self.find(y)\n",
    "\n",
    "    \n",
    "n,q = map(int,input().split())\n",
    "uf=UnionFind(n)\n",
    "\n",
    "for _ in range(q):\n",
    "    cmd,x,y = map(int,input().split())\n",
    "    if cmd==0:\n",
    "        uf.unite(x,y)\n",
    "    else:\n",
    "        isunion = uf.same(x,y)\n",
    "        print(int(isunion))"
   ]
  },
  {
   "cell_type": "markdown",
   "metadata": {},
   "source": [
    "# C - Bridge\n",
    "\n",
    "貼り付け元  <https://atcoder.jp/contests/abc075/tasks/abc075_c?lang=ja> "
   ]
  },
  {
   "cell_type": "code",
   "execution_count": 3,
   "metadata": {},
   "outputs": [
    {
     "name": "stdout",
     "output_type": "stream",
     "text": [
      "7 7\n",
      "1 3\n",
      "2 7\n",
      "3 4\n",
      "4 5\n",
      "4 6\n",
      "5 6\n",
      " 6 7\n",
      "1\n"
     ]
    }
   ],
   "source": [
    "class UnionFindTree:\n",
    "    def __init__(self, n):\n",
    "        self.par = list(range(n)) # par[i]:iの親のノード番号が入ってる\n",
    "        self.rank = [0] * n # 木の深さ\n",
    " \n",
    "    # xの根の番号を返す\n",
    "    def find(self, x):\n",
    "        if self.par[x] == x:\n",
    "            return x\n",
    "        else:\n",
    "            self.par[x] = self.find(self.par[x])\n",
    "            return self.par[x]\n",
    " \n",
    "    # xとyを結合する\n",
    "    def unite(self, x, y):\n",
    "        rx = self.find(x) # xの根\n",
    "        ry = self.find(y) # yの根\n",
    "        if rx == ry: return\n",
    " \n",
    "        # 浅いほうにくっつける\n",
    "        if self.rank[rx] < self.rank[ry]:\n",
    "            self.par[rx] = ry\n",
    "        else:\n",
    "            self.par[ry] = rx\n",
    "            if self.rank[rx] == self.rank[ry]:\n",
    "                self.rank[rx] += 1\n",
    "        \n",
    "    # 同じグループか判定する\n",
    "    def same(self, x, y):\n",
    "        return self.find(x) == self.find(y)\n",
    "    \n",
    "\n",
    "    \n",
    "n,m = map(int,input().split())\n",
    "uf=UnionFindTree(n)\n",
    "\n",
    "xy=[]\n",
    "for _ in range(m):\n",
    "    xy.append([int(i) for i in input().split()])\n",
    "\n",
    "\n",
    "for i in range(m):\n",
    "    uf = UnionFindTree(n)\n",
    "    for j in range(m):\n",
    "        if i==j:\n",
    "            continue\n",
    "        else:\n",
    "            uf.unite(xy[j][0],xy[j][1])\n",
    "    print(uf.par)\n",
    "    if len(set(uf.par))>1:\n",
    "        cnt+=1\n",
    "    \n",
    "print(cnt)"
   ]
  },
  {
   "cell_type": "code",
   "execution_count": 4,
   "metadata": {},
   "outputs": [
    {
     "name": "stdout",
     "output_type": "stream",
     "text": [
      "[0, 0, 0, 0, 0, 0, 1]\n"
     ]
    }
   ],
   "source": [
    "print(uf.par)"
   ]
  },
  {
   "cell_type": "code",
   "execution_count": null,
   "metadata": {},
   "outputs": [],
   "source": []
  }
 ],
 "metadata": {
  "kernelspec": {
   "display_name": "Python 3",
   "language": "python",
   "name": "python3"
  },
  "language_info": {
   "codemirror_mode": {
    "name": "ipython",
    "version": 3
   },
   "file_extension": ".py",
   "mimetype": "text/x-python",
   "name": "python",
   "nbconvert_exporter": "python",
   "pygments_lexer": "ipython3",
   "version": "3.8.3"
  }
 },
 "nbformat": 4,
 "nbformat_minor": 4
}
