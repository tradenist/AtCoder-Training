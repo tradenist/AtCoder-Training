{
 "cells": [
  {
   "cell_type": "markdown",
   "metadata": {},
   "source": [
    "# 逆元"
   ]
  },
  {
   "cell_type": "markdown",
   "metadata": {},
   "source": [
    "# C - 経路\n",
    "\n",
    "貼り付け元  <https://atcoder.jp/contests/abc034/tasks/abc034_c> "
   ]
  },
  {
   "cell_type": "code",
   "execution_count": null,
   "metadata": {},
   "outputs": [],
   "source": [
    "# 逆元...フェルマーの小定理を使う\n",
    "\n",
    "# pが素数、aとpが互いに素なら\n",
    "#     a^(p-1)=a * a^(p-2)≡1(mod p)\n",
    "# なのでaの逆元はa^(p-2)\n",
    "\n",
    "# n!の逆元は(n!)^(p-2)で、\n",
    "#     (n-1)!^(-1) = (n!)^(-1) * n\n",
    "# の関係で後ろから求めていくと毎回(p-2)乗をしなくて済む"
   ]
  },
  {
   "cell_type": "code",
   "execution_count": 12,
   "metadata": {},
   "outputs": [
    {
     "name": "stdout",
     "output_type": "stream",
     "text": [
      "123 456\n",
      "210368064\n"
     ]
    }
   ],
   "source": [
    "mod = 10**9+7\n",
    "w,h=map(int,input().split())\n",
    "n,r=w-1+h-1,h-1\n",
    "\n",
    "# nCrをmodで割ったあまりの計算\n",
    "def combinations(n,r,mod):\n",
    "    def comb(n,r):\n",
    "        if r>n or n<0 or r<0:\n",
    "            return 0\n",
    "        # n!/(r!*(n-r)!)の計算に逆元を利用した\n",
    "        return (fac[n]*inv[n-r]*inv[r])%mod\n",
    "\n",
    "    fac=[1]*(n+1) # fac[i]:iの階乗を格納\n",
    "    inv=[1]*(n+1) # inv[i]:fac[i]の逆元\n",
    "    # 階乗の計算\n",
    "    for j in range(n):\n",
    "        fac[j+1]=(fac[j]*(j+1))%mod\n",
    "    # 逆元の計算\n",
    "    inv[n]=pow(fac[n],mod-2,mod)\n",
    "    # (n-1)!^(-1) = (n!)^(-1) * n の関係より、後ろから逆元を求めていく\n",
    "    for j in range(n,0,-1):\n",
    "        inv[j-1] = (inv[j]*j) % mod\n",
    "\n",
    "    return comb(n,r)\n",
    "\n",
    "print(combinations(n,r,mod))"
   ]
  },
  {
   "cell_type": "markdown",
   "metadata": {},
   "source": [
    "# D - Knight \n",
    "\n",
    "貼り付け元  <https://atcoder.jp/contests/abc145/tasks/abc145_d> "
   ]
  },
  {
   "cell_type": "code",
   "execution_count": null,
   "metadata": {},
   "outputs": [],
   "source": [
    "# x+yが3の倍数 or y>2x or y<1/2x ならどう足掻いても到達できない\n",
    "# 到達できる場合,\n",
    "#     手数は(x+y)/3手\n",
    "#     x-yの絶対値分だけ移動回数に差がある\n",
    "#     ので、n=(x+y)/3, r=(n-abs(x-y))/2 にしてnCrを計算すればよい"
   ]
  },
  {
   "cell_type": "code",
   "execution_count": 13,
   "metadata": {},
   "outputs": [
    {
     "name": "stdout",
     "output_type": "stream",
     "text": [
      "999999 999999\n",
      "151840682\n"
     ]
    }
   ],
   "source": [
    "mod=10**9+7\n",
    "x,y=map(int,input().split())\n",
    "\n",
    "# nCrをmodで割ったあまりの計算\n",
    "def combinations(n,r,mod):\n",
    "    def comb(n,r):\n",
    "        if r>n or n<0 or r<0:\n",
    "            return 0\n",
    "        # n!/(r!*(n-r)!)の計算に逆元を利用した\n",
    "        return (fac[n]*inv[n-r]*inv[r])%mod\n",
    "\n",
    "    fac=[1]*(n+1) # fac[i]:iの階乗を格納\n",
    "    inv=[1]*(n+1) # inv[i]:fac[i]の逆元\n",
    "    # 階乗の計算\n",
    "    for j in range(n):\n",
    "        fac[j+1]=(fac[j]*(j+1))%mod\n",
    "    # 逆元の計算\n",
    "    inv[n]=pow(fac[n],mod-2,mod)\n",
    "    # (n-1)!^(-1) = (n!)^(-1) * n の関係より、後ろから逆元を求めていく\n",
    "    for j in range(n,0,-1):\n",
    "        inv[j-1] = (inv[j]*j) % mod\n",
    "\n",
    "    return comb(n,r)\n",
    "\n",
    "\n",
    "if (x+y)%3!=0 or (y-2*x)>0 or (2*y-x)<0:\n",
    "    print(0)\n",
    "else:\n",
    "    n=(x+y)//3\n",
    "    r=(n-abs(x-y))//2\n",
    "        \n",
    "    print(combinations(n,r,mod))\n",
    "    \n",
    "    "
   ]
  },
  {
   "cell_type": "markdown",
   "metadata": {},
   "source": [
    "# D - 多重ループ\n",
    "\n",
    "貼り付け元  <https://atcoder.jp/contests/abc021/tasks/abc021_d> "
   ]
  },
  {
   "cell_type": "code",
   "execution_count": null,
   "metadata": {},
   "outputs": [],
   "source": [
    "# 重複組み合わせnHk=(n+k-1)Ckを計算するだけ"
   ]
  },
  {
   "cell_type": "code",
   "execution_count": 16,
   "metadata": {},
   "outputs": [
    {
     "name": "stdout",
     "output_type": "stream",
     "text": [
      "100000 100000\n",
      "939733670\n"
     ]
    }
   ],
   "source": [
    "mod=10**9+7\n",
    "n=int(input())\n",
    "k=int(input())\n",
    "\n",
    "# nCrをmodで割ったあまりの計算\n",
    "def combinations(n,r,mod):\n",
    "    def comb(n,r):\n",
    "        if r>n or n<0 or r<0:\n",
    "            return 0\n",
    "        # n!/(r!*(n-r)!)の計算に逆元を利用した\n",
    "        return (fac[n]*inv[n-r]*inv[r])%mod\n",
    "\n",
    "    fac=[1]*(n+1) # fac[i]:iの階乗を格納\n",
    "    inv=[1]*(n+1) # inv[i]:fac[i]の逆元\n",
    "    # 階乗の計算\n",
    "    for j in range(n):\n",
    "        fac[j+1]=(fac[j]*(j+1))%mod\n",
    "    # 逆元の計算\n",
    "    inv[n]=pow(fac[n],mod-2,mod)\n",
    "    # (n-1)!^(-1) = (n!)^(-1) * n の関係より、後ろから逆元を求めていく\n",
    "    for j in range(n,0,-1):\n",
    "        inv[j-1] = (inv[j]*j) % mod\n",
    "\n",
    "    return comb(n,r)\n",
    "\n",
    "   \n",
    "print(combinations(n+k-1,k,mod))"
   ]
  },
  {
   "cell_type": "code",
   "execution_count": null,
   "metadata": {},
   "outputs": [],
   "source": []
  }
 ],
 "metadata": {
  "kernelspec": {
   "display_name": "Python 3",
   "language": "python",
   "name": "python3"
  },
  "language_info": {
   "codemirror_mode": {
    "name": "ipython",
    "version": 3
   },
   "file_extension": ".py",
   "mimetype": "text/x-python",
   "name": "python",
   "nbconvert_exporter": "python",
   "pygments_lexer": "ipython3",
   "version": "3.8.3"
  }
 },
 "nbformat": 4,
 "nbformat_minor": 4
}
